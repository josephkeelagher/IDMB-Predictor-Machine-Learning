{
 "cells": [
  {
   "cell_type": "markdown",
   "metadata": {},
   "source": [
    "# **Random Forest Classifier**"
   ]
  },
  {
   "cell_type": "markdown",
   "metadata": {},
   "source": [
    "## Required Library Imports"
   ]
  },
  {
   "cell_type": "code",
   "execution_count": 6,
   "metadata": {},
   "outputs": [],
   "source": [
    "# Import necessary libraries\n",
    "import pandas as pd\n",
    "import numpy as np\n",
    "from sklearn.model_selection import train_test_split\n",
    "from sklearn.ensemble import GradientBoostingClassifier\n",
    "from sklearn.model_selection import cross_val_score\n",
    "from sklearn.preprocessing import StandardScaler\n",
    "from sklearn.model_selection import StratifiedKFold\n",
    "from sklearn.metrics import confusion_matrix\n",
    "from sklearn.decomposition import PCA\n",
    "import seaborn as sns\n",
    "import matplotlib.pyplot as plt\n",
    "from sklearn.pipeline import make_pipeline\n",
    "from sklearn.model_selection import GridSearchCV\n",
    "from sklearn.model_selection import cross_val_predict\n",
    "from sklearn.metrics import classification_report"
   ]
  },
  {
   "cell_type": "markdown",
   "metadata": {},
   "source": [
    "## Data PreProcessing"
   ]
  },
  {
   "cell_type": "code",
   "execution_count": 7,
   "metadata": {},
   "outputs": [
    {
     "name": "stdout",
     "output_type": "stream",
     "text": [
      "Index(['num_critic_for_reviews', 'duration', 'director_facebook_likes',\n",
      "       'gross', 'num_voted_users', 'num_user_for_reviews', 'country',\n",
      "       'title_year', 'movie_facebook_likes', 'average_degree_centrality',\n",
      "       'doc2vec_genres_1', 'doc2vec_genres_2'],\n",
      "      dtype='object')\n",
      "   num_critic_for_reviews  duration  director_facebook_likes      gross  \\\n",
      "0                     186        73                       28  422783777   \n",
      "1                     252        97                        0   20433940   \n",
      "2                     232       117                      234     371897   \n",
      "3                     297       109                        0   13782838   \n",
      "4                     297       171                        0  313837577   \n",
      "\n",
      "   num_voted_users  num_user_for_reviews  country  title_year  \\\n",
      "0           644348                   656        3        1994   \n",
      "1            78883                   662        0        2005   \n",
      "2            36494                   118        3        2013   \n",
      "3           258078                   911        3        1982   \n",
      "4          1238746                  5060        0        2001   \n",
      "\n",
      "   movie_facebook_likes  average_degree_centrality  doc2vec_genres_1  \\\n",
      "0                 17000                   0.001576          0.000843   \n",
      "1                     0                   0.000675         -0.001595   \n",
      "2                 11000                   0.003002          0.000537   \n",
      "3                 23000                   0.001726          0.000672   \n",
      "4                 21000                   0.001876         -0.001229   \n",
      "\n",
      "   doc2vec_genres_2  \n",
      "0         -0.002808  \n",
      "1         -0.000470  \n",
      "2          0.015577  \n",
      "3         -0.005076  \n",
      "4          0.001813  \n",
      "0    4\n",
      "1    2\n",
      "2    2\n",
      "3    4\n",
      "4    4\n",
      "Name: imdb_score_binned, dtype: int64\n",
      "   num_critic_for_reviews  duration  director_facebook_likes      gross  \\\n",
      "0                      27       118                       14    2246000   \n",
      "1                     339       141                        0   47307550   \n",
      "2                      78        95                       89      37606   \n",
      "3                     226       117                        0  104054514   \n",
      "4                      97       104                       38    3447339   \n",
      "\n",
      "   num_voted_users  num_user_for_reviews  country  title_year  \\\n",
      "0             2302                    20        3        2015   \n",
      "1           104301                   269        3        2012   \n",
      "2            31836                    90        0        2009   \n",
      "3           200359                  1009        3        2002   \n",
      "4            29517                    79        3        2013   \n",
      "\n",
      "   movie_facebook_likes  average_degree_centrality  doc2vec_genres_1  \\\n",
      "0                     0                   0.000375          0.001008   \n",
      "1                 28000                   0.002176          0.007905   \n",
      "2                     0                   0.000900         -0.000598   \n",
      "3                     0                   0.003452          0.007918   \n",
      "4                     0                   0.000450         -0.013029   \n",
      "\n",
      "   doc2vec_genres_2  \n",
      "0         -0.002102  \n",
      "1          0.006602  \n",
      "2         -0.002253  \n",
      "3          0.006646  \n",
      "4          0.002630  \n"
     ]
    }
   ],
   "source": [
    "## TEST DATA PRE PROCESS\n",
    "#Plan: Remove categorical, Include genres and country, remove NA, compute MI and redundantness to remove further.\n",
    "# Load in data\n",
    "train_data = pd.read_csv('train_dataset.csv')\n",
    "test_data = pd.read_csv('test_dataset.csv')\n",
    "\n",
    "\n",
    "\n",
    "# Load in Doc2Vec genre feature\n",
    "train_D2V_genres = np.load('train_doc2vec_features_genre.npy')\n",
    "test_D2V_genres = np.load('test_doc2vec_features_genre.npy')\n",
    "pca = PCA(n_components = 10)\n",
    "pca.fit(train_D2V_genres)\n",
    "reduced_train_D2V_genres = pca.transform(train_D2V_genres)\n",
    "reduced_test_D2V_genres = pca.transform(test_D2V_genres)\n",
    "\n",
    "reduced_train_D2V_genres_df = pd.DataFrame(reduced_train_D2V_genres, columns=[f\"doc2vec_genres_{i}\" for i in range(reduced_train_D2V_genres.shape[1])])\n",
    "reduced_test_D2V_genres_df = pd.DataFrame(reduced_test_D2V_genres, columns=[f\"doc2vec_genres_{i}\" for i in range(reduced_test_D2V_genres.shape[1])])\n",
    "\n",
    "# Save id column for later Kaggle submission\n",
    "id_col = test_data['id']\n",
    "train_data = train_data.drop(['id'], axis=1)\n",
    "test_data = test_data.drop(['id'], axis=1)\n",
    "\n",
    "# Check which countries have the most high rated appearances\n",
    "# filtered_df = train_data[train_data['imdb_score_binned'] >= 4]\n",
    "# print(filtered_df[['country', 'imdb_score_binned']])\n",
    "\n",
    "# Count the occurrences of each country\n",
    "# country_counts = filtered_df['country'].value_counts()\n",
    "\n",
    "# Replace top 3 rated countries with ordered values \n",
    "def map_country(country):\n",
    "    if country in high_rated_countries:\n",
    "        if country == 'USA':\n",
    "            return 3\n",
    "        elif country == 'UK':\n",
    "            return 2\n",
    "        else:\n",
    "            return 1\n",
    "    else:\n",
    "        return 0\n",
    "\n",
    "high_rated_countries = ['USA', 'UK', 'France']\n",
    "train_data['country'] = train_data['country'].map(map_country)\n",
    "test_data['country'] = test_data['country'].map(map_country)\n",
    "\n",
    "# Drop redundant numeric data\n",
    "#redundant_attributes = ['actor_1_facebook_likes', 'actor_2_facebook_likes', 'actor_3_facebook_likes', 'facenumber_in_poster', 'average_degree_centrality', 'title_embedding']\n",
    "#train_data = train_data.drop(columns=redundant_attributes, axis=1)\n",
    "#test_data = test_data.drop(columns=redundant_attributes, axis=1)\n",
    "\n",
    "# Split into attributes and labels\n",
    "\n",
    "attributes = train_data.iloc[:, :-1]\n",
    "numeric_attributes = attributes.select_dtypes(include='number')\n",
    "label = train_data.iloc[:, -1]\n",
    "\n",
    "# Concatenate genre D2V to X and test data \n",
    "combined_train = pd.concat([numeric_attributes, reduced_train_D2V_genres_df, label], axis=1)\n",
    "combined_train = combined_train.select_dtypes(include='number')\n",
    "\n",
    "test_data = pd.concat([test_data, reduced_test_D2V_genres_df], axis=1)\n",
    "\n",
    "# Remove missing values\n",
    "combined_train.dropna(axis=0, inplace=True)\n",
    "\n",
    "\n",
    "\n",
    "# Split combined data into X and y\n",
    "X = combined_train.iloc[:, :-1]\n",
    "y = combined_train.iloc[:, -1]\n",
    "\n",
    "# Drop categorical/nominal data\n",
    "\n",
    "corr_matrix = combined_train.corr()\n",
    "corr_with_label = corr_matrix['imdb_score_binned'].sort_values(ascending=False)\n",
    "corr_columns = corr_matrix.columns[abs(corr_matrix['imdb_score_binned']) > 0.1]\n",
    "corr_columns = corr_columns.drop('imdb_score_binned')\n",
    "print(corr_columns)\n",
    "X = X[corr_columns]\n",
    "test_data = test_data[corr_columns]\n",
    "\n",
    "print(X.head())\n",
    "print(y.head())\n",
    "print(test_data.head())"
   ]
  },
  {
   "cell_type": "markdown",
   "metadata": {},
   "source": [
    "## Tuning Model's Hyperparameters"
   ]
  },
  {
   "cell_type": "code",
   "execution_count": 8,
   "metadata": {},
   "outputs": [
    {
     "name": "stdout",
     "output_type": "stream",
     "text": [
      "Best Parameters: {'gradientboostingclassifier__learning_rate': 0.1, 'gradientboostingclassifier__max_depth': 7, 'gradientboostingclassifier__n_estimators': 100}\n",
      "Best Score: 0.7220321686078758\n"
     ]
    }
   ],
   "source": [
    "# Define the pipeline for RF\n",
    "pipeline = make_pipeline(StandardScaler(), GradientBoostingClassifier(random_state=42))\n",
    "\n",
    "# Define the parameters grid to search for\n",
    "param_grid = {\n",
    "    'gradientboostingclassifier__n_estimators': [50, 100, 200], \n",
    "    'gradientboostingclassifier__learning_rate': [0.01, 0.1, 1.0], \n",
    "    'gradientboostingclassifier__max_depth': [3, 5, 7],\n",
    "}\n",
    "\n",
    "# Define the cross-validation strategy\n",
    "cv = StratifiedKFold(n_splits=5, shuffle=True, random_state=42)\n",
    "\n",
    "# Perform grid search\n",
    "grid_search = GridSearchCV(pipeline, param_grid, cv=cv, scoring='accuracy', n_jobs=-1)\n",
    "grid_search.fit(X, y)\n",
    "\n",
    "# Print the best hyperparameters and the corresponding mean cross-validated score\n",
    "print(\"Best Parameters:\", grid_search.best_params_)\n",
    "print(\"Best Score:\", grid_search.best_score_)"
   ]
  },
  {
   "cell_type": "markdown",
   "metadata": {},
   "source": [
    "## Model Training and Evaluation"
   ]
  },
  {
   "cell_type": "code",
   "execution_count": 9,
   "metadata": {},
   "outputs": [
    {
     "name": "stdout",
     "output_type": "stream",
     "text": [
      "Cross Val accuracy: [0.73377704 0.70881864 0.73876872 0.72212978 0.70666667]\n",
      "Cross Val Mean accuracy: 0.7220321686078758\n",
      "Classification Report: \n",
      "               precision    recall  f1-score   support\n",
      "\n",
      "           0       0.00      0.00      0.00        24\n",
      "           1       0.46      0.13      0.20       235\n",
      "           2       0.74      0.90      0.81      1839\n",
      "           3       0.66      0.53      0.59       777\n",
      "           4       0.84      0.58      0.69       129\n",
      "\n",
      "    accuracy                           0.72      3004\n",
      "   macro avg       0.54      0.43      0.46      3004\n",
      "weighted avg       0.70      0.72      0.70      3004\n",
      "\n"
     ]
    },
    {
     "data": {
      "image/png": "[encoded data removed]",
      "text/plain": [
       "<Figure size 1000x700 with 2 Axes>"
      ]
     },
     "metadata": {},
     "output_type": "display_data"
    }
   ],
   "source": [
    "best_pipeline = grid_search.best_estimator_\n",
    "cv_acc = cross_val_score(best_pipeline, X, y, cv=cv, scoring='accuracy')\n",
    "cv_pred = cross_val_predict(best_pipeline, X, y, cv=cv)\n",
    "print(\"Cross Val accuracy:\", cv_acc)\n",
    "print(\"Cross Val Mean accuracy:\", cv_acc.mean())\n",
    "print(\"Classification Report: \\n\", classification_report(y, cv_pred))\n",
    "cm = confusion_matrix(y, cv_pred)\n",
    "plt.figure(figsize=(10, 7))\n",
    "sns.heatmap(cm, annot=True, fmt='d', cmap='Blues', xticklabels=[0, 1, 2, 3, 4], yticklabels=[0, 1, 2, 3, 4])\n",
    "plt.title('Confusion Matrix')\n",
    "plt.xlabel('Predicted labels')\n",
    "plt.ylabel('True labels')\n",
    "plt.show()"
   ]
  }
 ],
 "metadata": {
  "kernelspec": {
   "display_name": "base",
   "language": "python",
   "name": "python3"
  },
  "language_info": {
   "codemirror_mode": {
    "name": "ipython",
    "version": 3
   },
   "file_extension": ".py",
   "mimetype": "text/x-python",
   "name": "python",
   "nbconvert_exporter": "python",
   "pygments_lexer": "ipython3",
   "version": "3.11.7"
  }
 },
 "nbformat": 4,
 "nbformat_minor": 2
}
